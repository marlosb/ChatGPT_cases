{
 "cells": [
  {
   "cell_type": "markdown",
   "id": "bd04c687",
   "metadata": {},
   "source": [
    "### create resources"
   ]
  },
  {
   "cell_type": "code",
   "execution_count": 1,
   "id": "f8ecf8eb",
   "metadata": {},
   "outputs": [],
   "source": [
    "import time\n",
    "\n",
    "from azure.identity import AzureCliCredential\n",
    "from azure.mgmt.cognitiveservices import CognitiveServicesManagementClient\n",
    "from azure.mgmt.resource import ResourceManagementClient\n",
    "\n",
    "import tiktoken "
   ]
  },
  {
   "cell_type": "code",
   "execution_count": 2,
   "id": "76450cab",
   "metadata": {},
   "outputs": [],
   "source": [
    "subscription_id  = '<your-subscription-id>'\n",
    "region = 'eastus'\n",
    "\n",
    "project = 'testopenai'\n",
    "region = 'eastus'\n",
    "\n",
    "environment = '-dev-'\n",
    "resource_group_name = 'rg-' + project + environment + region + '-001' # create names using convention\n",
    "openai_name = 'oai-' + project + environment + region + '-001'\n",
    "deployment_name = 'gpt-' + project + environment + region + '-001'"
   ]
  },
  {
   "cell_type": "code",
   "execution_count": 3,
   "id": "66fd47cf",
   "metadata": {},
   "outputs": [],
   "source": [
    "credential = AzureCliCredential()\n",
    "resource_client = ResourceManagementClient(credential, subscription_id) # instanciate client object\n",
    "cognitive_client = CognitiveServicesManagementClient(credential=AzureCliCredential(), subscription_id=subscription_id)"
   ]
  },
  {
   "cell_type": "code",
   "execution_count": 4,
   "id": "37973036",
   "metadata": {},
   "outputs": [],
   "source": [
    "cognitive_account = cognitive_client.accounts.get(resource_group_name = resource_group_name,\n",
    "                                                  account_name = openai_name)"
   ]
  },
  {
   "cell_type": "markdown",
   "id": "c05070e2",
   "metadata": {},
   "source": [
    "### Call API"
   ]
  },
  {
   "cell_type": "code",
   "execution_count": 5,
   "id": "be12eba5",
   "metadata": {},
   "outputs": [],
   "source": [
    "import openai"
   ]
  },
  {
   "cell_type": "code",
   "execution_count": 6,
   "id": "d5f189e3",
   "metadata": {},
   "outputs": [],
   "source": [
    "key = cognitive_client.accounts.list_keys(resource_group_name = resource_group_name,\n",
    "                                                                 account_name = openai_name).key1\n",
    "endpoint = cognitive_account.properties.endpoint"
   ]
  },
  {
   "cell_type": "code",
   "execution_count": 7,
   "id": "3eab840e",
   "metadata": {},
   "outputs": [],
   "source": [
    "openai.api_type = \"azure\"\n",
    "openai.api_base = endpoint\n",
    "openai.api_version = \"2022-12-01\"\n",
    "openai.api_key = key"
   ]
  },
  {
   "cell_type": "code",
   "execution_count": 8,
   "id": "cb6b056d",
   "metadata": {},
   "outputs": [],
   "source": [
    "class Encoder():\n",
    "    def __init__(self, \n",
    "                 name: str, \n",
    "                 base: str = 'cl100k_base', \n",
    "                 start_token : str = '<|im_start|>',\n",
    "                 end_token: str = '<|im_end|>'):\n",
    "        self.start_token = start_token\n",
    "        self.end_token = end_token\n",
    "        self.cl100k_base = tiktoken.get_encoding(\"cl100k_base\")\n",
    "        self.encoder = tiktoken.Encoding(name=name,  \n",
    "                                         pat_str=self.cl100k_base._pat_str, \n",
    "                                         mergeable_ranks=self.cl100k_base._mergeable_ranks, \n",
    "                                         special_tokens={ **self.cl100k_base._special_tokens, \n",
    "                                                         start_token: 100264, \n",
    "                                                         end_token: 100265})"
   ]
  },
  {
   "cell_type": "code",
   "execution_count": 9,
   "id": "16e0ab21",
   "metadata": {},
   "outputs": [],
   "source": [
    "class Prompt():\n",
    "    def __init__(self, system_message: str, encoder: Encoder, max_tokens: int = 2040, verbose: bool = False):\n",
    "        self.start_token = encoder.start_token\n",
    "        self.end_token = '\\n' + encoder.end_token + '\\n'\n",
    "        self.prompt = self.start_token + 'system\\n' + system_message + self.end_token\n",
    "        self.tokens_size = 0\n",
    "        self.max_tokens = max_tokens\n",
    "        self.tokenizer = encoder\n",
    "        self.verbose = verbose\n",
    "        self._update()\n",
    "        \n",
    "    def _update(self):\n",
    "        self.tokens = self.tokenizer.encoder.encode(self.prompt, allowed_special={\"<|im_start|>\", \"<|im_end|>\"} )\n",
    "        self.tokens_size = len(self.tokens)\n",
    "        if self.tokens_size > self.max_tokens:\n",
    "            if self.verbose:\n",
    "                print(f'tokens size limit reached, actual size is {self.tokens_size} and limit is {self.max_tokens}')\n",
    "                print('Removing oldests messages')\n",
    "            self.remove_oldest_message()\n",
    "               \n",
    "        \n",
    "    def add_message(self, message: str, speaker : str = 'user') -> None:\n",
    "        if speaker == 'user':\n",
    "            self.prompt = (self.prompt \n",
    "                           + self.start_token + speaker + '\\n' \n",
    "                           + message \n",
    "                           + self.end_token \n",
    "                           + self.start_token + 'assistant\\n')\n",
    "        else:\n",
    "            self.prompt = self.prompt + message + self.end_token\n",
    "        self._update()\n",
    "        \n",
    "    def remove_oldest_message(self):\n",
    "        start = self.prompt.find(self.start_token + 'user')\n",
    "        middle = self.prompt.find('assistant\\n')\n",
    "        end = self.prompt.find(self.end_token, middle)\n",
    "        to_be_removed = self.prompt[start : end + len(self.end_token)]\n",
    "        if self.verbose: print(f'removing \"{to_be_removed}\"\\n')\n",
    "        self.prompt = self.prompt.replace(to_be_removed, '')\n",
    "        self._update()\n",
    "        \n",
    "    def get_last_response(self):\n",
    "        start = self.prompt.rfind(self.start_token + 'assistant')\n",
    "        end = self.prompt.find(self.end_token, start)\n",
    "        return self.prompt[start + len(self.start_token): end]\n",
    "        \n",
    "    def print_last_response(self):\n",
    "        print(self.get_last_response())"
   ]
  },
  {
   "cell_type": "code",
   "execution_count": 10,
   "id": "cbeba2ac",
   "metadata": {},
   "outputs": [],
   "source": [
    "class Chat():\n",
    "    def __init__(self, engine: str, prompt: Prompt, temperature: int = 0, max_tokens: int = 2040, top_p: float = 0.5):\n",
    "        self.engine = engine\n",
    "        self.prompt = prompt\n",
    "        self.temperature = temperature\n",
    "        self.max_tokens = max_tokens\n",
    "        self.top_p = top_p\n",
    "        self.stop = prompt.end_token.strip()\n",
    "        \n",
    "    def send_message(self):\n",
    "        response = openai.Completion.create(\n",
    "                                      engine=self.engine,\n",
    "                                      prompt=self.prompt.prompt,\n",
    "                                      temperature=self.temperature,\n",
    "                                      max_tokens=self.max_tokens,\n",
    "                                      top_p=self.top_p,\n",
    "                                      stop=[self.stop])\n",
    "        self.prompt.add_message(response['choices'][0]['text'], speaker='assistant')"
   ]
  },
  {
   "cell_type": "markdown",
   "id": "ccc650a0",
   "metadata": {},
   "source": [
    "### Geração de massa de dados"
   ]
  },
  {
   "cell_type": "code",
   "execution_count": 11,
   "id": "0e1e552f",
   "metadata": {},
   "outputs": [],
   "source": [
    "max_tokens = 2000\n",
    "\n",
    "cl100k_encoder = Encoder(name = deployment_name)\n",
    "system_message = 'O assitente ajuda a gerar dados seguindo um esquema definido.'\n",
    "test_prompt = Prompt(system_message, encoder = cl100k_encoder, max_tokens = max_tokens)\n",
    "test_chat = Chat(engine = deployment_name, prompt = test_prompt, max_tokens = max_tokens)"
   ]
  },
  {
   "cell_type": "code",
   "execution_count": 12,
   "id": "7a05bf43",
   "metadata": {},
   "outputs": [
    {
     "name": "stdout",
     "output_type": "stream",
     "text": [
      "assistant\n",
      "Segue abaixo 10 linhas de dados sintéticos seguindo o esquema definido:\n",
      "\n",
      "| nome                 | idade | endereço                       | cidade           | estado | CEP         | CPF           |\n",
      "|----------------------|-------|--------------------------------|------------------|--------|-------------|---------------|\n",
      "| Ana Paula Santos     | 28    | Rua das Flores, 123            | São Paulo        | SP     | 01234-567  | 123.456.789-10 |\n",
      "| João da Silva        | 42    | Rua dos Pinheiros, 456         | Rio de Janeiro   | RJ     | 23456-789  | 234.567.890-11 |\n",
      "| Maria Aparecida Lima | 35    | Avenida Paulista, 789          | São Paulo        | SP     | 34567-890  | 345.678.901-12 |\n",
      "| Pedro Henrique Sousa | 21    | Rua das Palmeiras, 987         | Belo Horizonte   | MG     | 45678-901  | 456.789.012-13 |\n",
      "| Juliana Oliveira     | 29    | Rua dos Girassóis, 654         | Brasília         | DF     | 56789-012  | 567.890.123-14 |\n",
      "| Rafaela Santos       | 27    | Rua das Acácias, 321           | Salvador         | BA     | 67890-123  | 678.901.234-15 |\n",
      "| Lucas Pereira        | 31    | Avenida Atlântica, 987         | Rio de Janeiro   | RJ     | 78901-234  | 789.012.345-16 |\n",
      "| Fernanda Souza       | 24    | Rua das Orquídeas, 456         | São Paulo        | SP     | 89012-345  | 890.123.456-17 |\n",
      "| Gustavo Oliveira     | 38    | Rua dos Lírios, 789            | Belo Horizonte   | MG     | 90123-456  | 901.234.567-18 |\n",
      "| Mariana Silva        | 26    | Avenida Paulista, 1234         | São Paulo        | SP     | 01234-567  | 012.345.678-98 |\n"
     ]
    }
   ],
   "source": [
    "test_prompt.add_message(\"Temos uma tabela com 7 colunas: nome, idade, endereço, cidade, estado, CEP e CPF. \\\n",
    "                         A coluna nome é do tipo VARCHAR e tem o nome completo dos usuários. \\\n",
    "                         A coluna idade é do tipo INT e contém a idade dos usuários, \\\n",
    "                         A coluna endereço é do tipo VARCHAR e tem o endereço (rua, número e complemento) do usuário.\\\n",
    "                         A coluna cidade é to tipo VARCHAR e tem a cidade do usuário.\\\n",
    "                         A coluna estado é do tipo CHAR(2) e tem a sigla do estado do usuário. \\\n",
    "                         A coluna CEP é do tipo CHAR(9) e tem o CEP do usuário.\\\n",
    "                         A coluna CEP é do tipo CHAR(11) e tem o CPF do usuário.\\\n",
    "                         Gere 10 linhas de dados sintético seguindo esse esquema\")\n",
    "test_chat.send_message()\n",
    "test_prompt.print_last_response()"
   ]
  },
  {
   "cell_type": "code",
   "execution_count": 13,
   "id": "016c5ad9",
   "metadata": {},
   "outputs": [
    {
     "name": "stdout",
     "output_type": "stream",
     "text": [
      "assistant\n",
      "Segue abaixo a query SQL para inserir os dados na tabela \"cadastro_usuario\":\n",
      "\n",
      "```\n",
      "INSERT INTO cadastro_usuario (nome, idade, endereco, cidade, estado, CEP, CPF)\n",
      "VALUES \n",
      "('Ana Paula Santos', 28, 'Rua das Flores, 123', 'São Paulo', 'SP', '01234-567', '123.456.789-10'),\n",
      "('João da Silva', 42, 'Rua dos Pinheiros, 456', 'Rio de Janeiro', 'RJ', '23456-789', '234.567.890-11'),\n",
      "('Maria Aparecida Lima', 35, 'Avenida Paulista, 789', 'São Paulo', 'SP', '34567-890', '345.678.901-12'),\n",
      "('Pedro Henrique Sousa', 21, 'Rua das Palmeiras, 987', 'Belo Horizonte', 'MG', '45678-901', '456.789.012-13'),\n",
      "('Juliana Oliveira', 29, 'Rua dos Girassóis, 654', 'Brasília', 'DF', '56789-012', '567.890.123-14'),\n",
      "('Rafaela Santos', 27, 'Rua das Acácias, 321', 'Salvador', 'BA', '67890-123', '678.901.234-15'),\n",
      "('Lucas Pereira', 31, 'Avenida Atlântica, 987', 'Rio de Janeiro', 'RJ', '78901-234', '789.012.345-16'),\n",
      "('Fernanda Souza', 24, 'Rua das Orquídeas, 456', 'São Paulo', 'SP', '89012-345', '890.123.456-17'),\n",
      "('Gustavo Oliveira', 38, 'Rua dos Lírios, 789', 'Belo Horizonte', 'MG', '90123-456', '901.234.567-18'),\n",
      "('Mariana Silva', 26, 'Avenida Paulista, 1234', 'São Paulo', 'SP', '01234-567', '012.345.678-98');\n",
      "``` \n",
      "\n",
      "Lembrando que é necessário ter a tabela \"cadastro_usuario\" criada previamente com as colunas nome, idade, endereco, cidade, estado, CEP e CPF.\n"
     ]
    }
   ],
   "source": [
    "test_prompt.add_message(\"Escreva uma query SQL para inserir esses dados na tabela, o nome da tabela é cadastro_usuario\")\n",
    "test_chat.send_message()\n",
    "test_prompt.print_last_response()"
   ]
  },
  {
   "cell_type": "markdown",
   "id": "760901b4",
   "metadata": {},
   "source": [
    "### Transformar texto livre em dado estruturado"
   ]
  },
  {
   "cell_type": "code",
   "execution_count": 24,
   "id": "95d901f5",
   "metadata": {},
   "outputs": [],
   "source": [
    "max_tokens = 2000\n",
    "\n",
    "cl100k_encoder = Encoder(name = deployment_name)\n",
    "system_message = 'O assistente recebe um campo de texto livre com informacões sobre veículos, \\\n",
    "                  nessas informações temos fabricante, modelo do veículo, versão do veículo,\\\n",
    "                  ano de inicio e ano de fim. Os dados devem ser inseridos em um tabela com as \\\n",
    "                  colunas fabricante, modelo, versão, ano.\\\n",
    "                  user: Focus - 1.6/ 1.8 / 2.0 - 01/08-08 \\\n",
    "                  assistente:\\\n",
    "                  | fabricante  | modelo     | versão    | ano | \\\n",
    "                  | Ford        | Focus      | 1.6       | 08  | \\\n",
    "                  | Ford        | Focus      | 1.8       | 08  | \\\n",
    "                  | Ford        | Focus      | 2.0       | 08  |'\n",
    "test_prompt = Prompt(system_message, encoder = cl100k_encoder, max_tokens = max_tokens)\n",
    "test_chat = Chat(engine = deployment_name, prompt = test_prompt, max_tokens = max_tokens)"
   ]
  },
  {
   "cell_type": "code",
   "execution_count": 25,
   "id": "f4ff977c",
   "metadata": {},
   "outputs": [
    {
     "name": "stdout",
     "output_type": "stream",
     "text": [
      "assistant\n",
      "Com base nas informações fornecidas, a tabela ficaria assim:\n",
      "\n",
      "| fabricante  | modelo     | versão    | ano |\n",
      "|-------------|------------|-----------|-----|\n",
      "| Chevrolet   | Corsa      | Todos     | 2003|\n",
      "| Chevrolet   | Corsa      | Todos     | 2004|\n",
      "| Chevrolet   | Corsa      | Todos     | 2005|\n"
     ]
    }
   ],
   "source": [
    "test_prompt.add_message(\"CHEVROLET CORSA 2003 | TODOS OS MODELOS (NOVO CORSA) - CHEVROLET CORSA 2004 | \\\n",
    "                         TODOS OS MODELOS (NOVO CORSA) - CHEVROLET CORSA 2005 | TODOS OS MODELOS \")\n",
    "test_chat.send_message()\n",
    "test_prompt.print_last_response()"
   ]
  },
  {
   "cell_type": "code",
   "execution_count": 26,
   "id": "69025c22",
   "metadata": {},
   "outputs": [
    {
     "name": "stdout",
     "output_type": "stream",
     "text": [
      "assistant\n",
      "A query SQL para inserir os dados da última consulta na tabela \"aplicacao\" seria:\n",
      "\n",
      "```\n",
      "INSERT INTO aplicacao (fabricante, modelo, versao, ano)\n",
      "VALUES \n",
      "('Chevrolet', 'Corsa', 'Todos', '2003'),\n",
      "('Chevrolet', 'Corsa', 'Todos', '2004'),\n",
      "('Chevrolet', 'Corsa', 'Todos', '2005');\n",
      "```\n",
      "\n",
      "Lembrando que é necessário ter a tabela \"aplicacao\" previamente criada com as colunas \"fabricante\", \"modelo\", \"versao\" e \"ano\".\n"
     ]
    }
   ],
   "source": [
    "test_prompt.add_message(\"Escreva uma query SQL para inserir os dados da ultima consulta \\\n",
    "                         em uma tabela chamada é aplicacao \")\n",
    "test_chat.send_message()\n",
    "test_prompt.print_last_response()"
   ]
  },
  {
   "cell_type": "code",
   "execution_count": 27,
   "id": "01aba791",
   "metadata": {},
   "outputs": [
    {
     "name": "stdout",
     "output_type": "stream",
     "text": [
      "assistant\n",
      "Com base nas informações fornecidas, a tabela ficaria assim:\n",
      "\n",
      "| fabricante  | modelo     | versão           | ano |\n",
      "|-------------|------------|-----------------|-----|\n",
      "| Nissan      | Livina     | 1.8 (Manual)     | 2010|\n",
      "| Nissan      | Livina     | 1.8 (Manual)     | 2011|\n",
      "| Nissan      | Livina     | 1.8 (Manual)     | 2012|\n",
      "\n",
      "Observação: Como não foi informado o modelo exato da Nissan Livina, utilizei apenas \"Livina\" na coluna \"modelo\".\n"
     ]
    }
   ],
   "source": [
    "test_prompt.add_message(\"NISSAN LIVINA 2010 | 1.8 (TRANSMISSÃO MANUAL) - NISSAN LIVINA 2011 | \\\n",
    "                         1.8 (TRANSMISSÃO MANUAL) - NISSAN LIVINA 2012 | 1.8 (TRANSMISSÃO MANUAL) - NISSAN \")\n",
    "test_chat.send_message()\n",
    "test_prompt.print_last_response()"
   ]
  },
  {
   "cell_type": "code",
   "execution_count": 28,
   "id": "6348357c",
   "metadata": {},
   "outputs": [
    {
     "name": "stdout",
     "output_type": "stream",
     "text": [
      "assistant\n",
      "A query SQL para inserir os dados da última consulta na tabela \"aplicacao\" seria:\n",
      "\n",
      "```\n",
      "INSERT INTO aplicacao (fabricante, modelo, versao, ano)\n",
      "VALUES \n",
      "('Nissan', 'Livina', '1.8 (Manual)', '2010'),\n",
      "('Nissan', 'Livina', '1.8 (Manual)', '2011'),\n",
      "('Nissan', 'Livina', '1.8 (Manual)', '2012');\n",
      "```\n",
      "\n",
      "Lembrando que é necessário ter a tabela \"aplicacao\" previamente criada com as colunas \"fabricante\", \"modelo\", \"versao\" e \"ano\".\n",
      "\n"
     ]
    }
   ],
   "source": [
    "test_prompt.add_message(\"Escreva uma query SQL para inserir esses dados na tabela, o nome da tabela é aplicacao \")\n",
    "test_chat.send_message()\n",
    "test_prompt.print_last_response()"
   ]
  },
  {
   "cell_type": "code",
   "execution_count": 29,
   "id": "d5fb764c",
   "metadata": {},
   "outputs": [
    {
     "name": "stdout",
     "output_type": "stream",
     "text": [
      "assistant\n",
      "Com base nas informações fornecidas, a tabela ficaria assim:\n",
      "\n",
      "| fabricante  | modelo     | versão    | ano |\n",
      "|-------------|------------|-----------|-----|\n",
      "| Renault     | Clio       | Todos     | 1998|\n",
      "| Renault     | Express    | Todos     | 1993|\n",
      "| Renault     | Express    | Todos     | 2001|\n",
      "| Renault     | Megane     | Todos     | 1997|\n",
      "| Renault     | Megane     | Todos     | 2005|\n",
      "| Renault     | R19        | Todos     | 1992|\n",
      "| Renault     | R19        | Todos     | 1996|\n",
      "\n",
      "Observação: Como não foi informado a versão exata dos modelos Renault Clio, Express, Megane e R19, utilizei \"Todos\" na coluna \"versão\".\n",
      "\n"
     ]
    }
   ],
   "source": [
    "test_prompt.add_message(\"RENAULT Clio 01/98; Express 01/93 - 12/01;  Megane 01/97 - 12/05; R19 01/92 - 12/96 \")\n",
    "test_chat.send_message()\n",
    "test_prompt.print_last_response()"
   ]
  },
  {
   "cell_type": "code",
   "execution_count": 30,
   "id": "665856f9",
   "metadata": {},
   "outputs": [
    {
     "name": "stdout",
     "output_type": "stream",
     "text": [
      "assistant\n",
      "A query SQL para inserir os dados da última consulta na tabela \"aplicacao\" seria:\n",
      "\n",
      "```\n",
      "INSERT INTO aplicacao (fabricante, modelo, versao, ano)\n",
      "VALUES \n",
      "('Renault', 'Clio', 'Todos', '1998'),\n",
      "('Renault', 'Express', 'Todos', '1993'),\n",
      "('Renault', 'Express', 'Todos', '2001'),\n",
      "('Renault', 'Megane', 'Todos', '1997'),\n",
      "('Renault', 'Megane', 'Todos', '2005'),\n",
      "('Renault', 'R19', 'Todos', '1992'),\n",
      "('Renault', 'R19', 'Todos', '1996');\n",
      "```\n",
      "\n",
      "Lembrando que é necessário ter a tabela \"aplicacao\" previamente criada com as colunas \"fabricante\", \"modelo\", \"versao\" e \"ano\".\n"
     ]
    }
   ],
   "source": [
    "test_prompt.add_message(\"Escreva uma query SQL para inserir esses dados na tabela, o nome da tabela é aplicacao \")\n",
    "test_chat.send_message()\n",
    "test_prompt.print_last_response()"
   ]
  },
  {
   "cell_type": "code",
   "execution_count": 31,
   "id": "877ee546",
   "metadata": {},
   "outputs": [
    {
     "name": "stdout",
     "output_type": "stream",
     "text": [
      "assistant\n",
      "Com base nas informações fornecidas, a tabela ficaria assim:\n",
      "\n",
      "| fabricante  | modelo        | versão              | ano |\n",
      "|-------------|---------------|---------------------|-----|\n",
      "| Ford        | Focus         | 1.6i 16V Flex       | 2010|\n",
      "| Ford        | Focus         | 1.6i 16V Flex       | 2011|\n",
      "| Ford        | Focus         | 1.6i 16V Flex       | 2012|\n",
      "| Ford        | Focus         | 1.6i 16V Flex       | 2013|\n",
      "| Ford        | Focus         | 2.0i 16V Flex       | 2010|\n",
      "| Ford        | Focus         | 2.0i 16V Flex       | 2011|\n",
      "| Ford        | Focus         | 2.0i 16V Flex       | 2012|\n",
      "| Ford        | Focus         | 2.0i 16V Flex       | 2013|\n",
      "| Ford        | Focus Sedan   | 1.6i 16V Flex       | 2010|\n",
      "| Ford        | Focus Sedan   | 1.6i 16V Flex       | 2011|\n",
      "| Ford        | Focus Sedan   | 1.6i 16V Flex       | 2012|\n",
      "| Ford        | Focus Sedan   | 1.6i 16V Flex       | 2013|\n",
      "| Ford        | Focus Sedan   | 2.0i 16V Flex       | 2010|\n",
      "| Ford        | Focus Sedan   | 2.0i 16V Flex       | 2011|\n",
      "| Ford        | Focus Sedan   | 2.0i 16V Flex       | 2012|\n",
      "| Ford        | Focus Sedan   | 2.0i 16V Flex       | 2013|\n",
      "\n",
      "Observação: Utilizei a nomenclatura \"i\" para indicar injeção eletrônica na coluna \"versão\".\n"
     ]
    }
   ],
   "source": [
    "test_prompt.add_message(\"FORD Focus 1.6i 16V Flex 2010 ATÉ 2013 \\\n",
    "                         FORD Focus 2.0i 16V Flex 2010 ATÉ 2013 \\\n",
    "                         FORD Focus Sedan 1.6i 16V Flex 2010 ATÉ 2013 \\\n",
    "                         FORD Focus Sedan 2.0i 16V Flex 2010 ATÉ 2013 \")\n",
    "test_chat.send_message()\n",
    "test_prompt.print_last_response()"
   ]
  },
  {
   "cell_type": "code",
   "execution_count": 32,
   "id": "dda02e8f",
   "metadata": {},
   "outputs": [
    {
     "name": "stdout",
     "output_type": "stream",
     "text": [
      "assistant\n",
      "A query SQL para inserir os dados da última consulta na tabela \"aplicacao\" seria:\n",
      "\n",
      "```\n",
      "INSERT INTO aplicacao (fabricante, modelo, versao, ano)\n",
      "VALUES \n",
      "('Ford', 'Focus', '1.6i 16V Flex', '2010'),\n",
      "('Ford', 'Focus', '1.6i 16V Flex', '2011'),\n",
      "('Ford', 'Focus', '1.6i 16V Flex', '2012'),\n",
      "('Ford', 'Focus', '1.6i 16V Flex', '2013'),\n",
      "('Ford', 'Focus', '2.0i 16V Flex', '2010'),\n",
      "('Ford', 'Focus', '2.0i 16V Flex', '2011'),\n",
      "('Ford', 'Focus', '2.0i 16V Flex', '2012'),\n",
      "('Ford', 'Focus', '2.0i 16V Flex', '2013'),\n",
      "('Ford', 'Focus Sedan', '1.6i 16V Flex', '2010'),\n",
      "('Ford', 'Focus Sedan', '1.6i 16V Flex', '2011'),\n",
      "('Ford', 'Focus Sedan', '1.6i 16V Flex', '2012'),\n",
      "('Ford', 'Focus Sedan', '1.6i 16V Flex', '2013'),\n",
      "('Ford', 'Focus Sedan', '2.0i 16V Flex', '2010'),\n",
      "('Ford', 'Focus Sedan', '2.0i 16V Flex', '2011'),\n",
      "('Ford', 'Focus Sedan', '2.0i 16V Flex', '2012'),\n",
      "('Ford', 'Focus Sedan', '2.0i 16V Flex', '2013');\n",
      "```\n",
      "\n",
      "Lembrando que é necessário ter a tabela \"aplicacao\" previamente criada com as colunas \"fabricante\", \"modelo\", \"versao\" e \"ano\".\n"
     ]
    }
   ],
   "source": [
    "test_prompt.add_message(\"Escreva uma query SQL para inserir esses dados na tabela, o nome da tabela é aplicacao \")\n",
    "test_chat.send_message()\n",
    "test_prompt.print_last_response()"
   ]
  },
  {
   "cell_type": "code",
   "execution_count": null,
   "id": "802ec971",
   "metadata": {},
   "outputs": [],
   "source": []
  }
 ],
 "metadata": {
  "kernelspec": {
   "display_name": "Python 3 (ipykernel)",
   "language": "python",
   "name": "python3"
  },
  "language_info": {
   "codemirror_mode": {
    "name": "ipython",
    "version": 3
   },
   "file_extension": ".py",
   "mimetype": "text/x-python",
   "name": "python",
   "nbconvert_exporter": "python",
   "pygments_lexer": "ipython3",
   "version": "3.11.1"
  }
 },
 "nbformat": 4,
 "nbformat_minor": 5
}
