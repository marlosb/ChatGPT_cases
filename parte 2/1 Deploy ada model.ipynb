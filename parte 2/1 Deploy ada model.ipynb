{
 "cells": [
  {
   "cell_type": "code",
   "execution_count": 1,
   "id": "0d298bbb",
   "metadata": {},
   "outputs": [],
   "source": [
    "from azure.identity import AzureCliCredential\n",
    "from azure.mgmt.cognitiveservices import CognitiveServicesManagementClient\n",
    "from azure.mgmt.resource import ResourceManagementClient"
   ]
  },
  {
   "cell_type": "code",
   "execution_count": 2,
   "id": "0a91d950",
   "metadata": {},
   "outputs": [],
   "source": [
    "subscription_id  = '<your subscription key>'\n",
    "region = 'eastus'\n",
    "\n",
    "project = 'testopenai'\n",
    "region = 'eastus'\n",
    "\n",
    "environment = '-dev-'\n",
    "resource_group_name = 'rg-' + project + environment + region + '-001' # create names using convention\n",
    "openai_name = 'oai-' + project + environment + region + '-001'\n",
    "deployment_name = 'ada-' + project + environment + region + '-001'"
   ]
  },
  {
   "cell_type": "code",
   "execution_count": 6,
   "id": "43b64b7a",
   "metadata": {},
   "outputs": [],
   "source": [
    "credential = AzureCliCredential()\n",
    "resource_client = ResourceManagementClient(credential, subscription_id) # instanciate client object\n",
    "cognitive_client = CognitiveServicesManagementClient(credential=AzureCliCredential(), subscription_id=subscription_id)"
   ]
  },
  {
   "cell_type": "code",
   "execution_count": 4,
   "id": "6c2caf9c",
   "metadata": {},
   "outputs": [],
   "source": [
    "deployment_properties = {'model': {'format': 'OpenAI', 'name': 'text-embedding-ada-002', 'version': '1'},\n",
    "                         'scale_settings': {'scale_type': 'Standard'},\n",
    "                         'capabilities': {'completion': 'true', 'chatCompletion': 'true'}}\n",
    "\n",
    "deployment_params = {'type' : 'Microsoft.CognitiveServices/accounts/deployments', \n",
    "                     'properties': deployment_properties}"
   ]
  },
  {
   "cell_type": "code",
   "execution_count": 7,
   "id": "ffd59a20",
   "metadata": {},
   "outputs": [],
   "source": [
    "deployment = cognitive_client.deployments.begin_create_or_update(resource_group_name = resource_group_name,\n",
    "                                                                 account_name = openai_name,\n",
    "                                                                 deployment_name = deployment_name,\n",
    "                                                                 deployment= deployment_params)"
   ]
  },
  {
   "cell_type": "code",
   "execution_count": 9,
   "id": "298f6143",
   "metadata": {},
   "outputs": [
    {
     "name": "stdout",
     "output_type": "stream",
     "text": [
      "{'id': '/subscriptions/b1fcc415-9d99-40b4-9dc3-dea5e9775093/resourceGroups/rg-testopenai-dev-eastus-001/providers/Microsoft.CognitiveServices/accounts/oai-testopenai-dev-eastus-001/deployments/gpt-testopenai-dev-eastus-001', 'name': 'gpt-testopenai-dev-eastus-001', 'type': 'Microsoft.CognitiveServices/accounts/deployments', 'system_data': {'created_by': 'marlosbosso@outlook.com', 'created_by_type': 'User', 'created_at': '2023-03-11T20:34:16.493868Z', 'last_modified_by': 'marlosbosso@outlook.com', 'last_modified_by_type': 'User', 'last_modified_at': '2023-03-11T20:34:16.493868Z'}, 'etag': '\"4a371f3a-a723-4a6d-9f25-473f1053f098\"', 'properties': {'provisioning_state': 'Succeeded', 'model': {'format': 'OpenAI', 'name': 'gpt-35-turbo', 'version': '0301'}, 'scale_settings': {'scale_type': 'Standard'}, 'capabilities': {'completion': 'true', 'chatCompletion': 'true'}}}\n",
      "{'id': '/subscriptions/b1fcc415-9d99-40b4-9dc3-dea5e9775093/resourceGroups/rg-testopenai-dev-eastus-001/providers/Microsoft.CognitiveServices/accounts/oai-testopenai-dev-eastus-001/deployments/ada-testopenai-dev-eastus-001', 'name': 'ada-testopenai-dev-eastus-001', 'type': 'Microsoft.CognitiveServices/accounts/deployments', 'system_data': {'created_by': 'marlosbosso@outlook.com', 'created_by_type': 'User', 'created_at': '2023-03-15T19:57:20.065602Z', 'last_modified_by': 'marlosbosso@outlook.com', 'last_modified_by_type': 'User', 'last_modified_at': '2023-03-15T19:57:20.065602Z'}, 'etag': '\"c8fe8875-98e0-458d-9cf1-870d446a8d00\"', 'properties': {'provisioning_state': 'Succeeded', 'model': {'format': 'OpenAI', 'name': 'text-embedding-ada-002', 'version': '1'}, 'scale_settings': {'scale_type': 'Standard'}, 'capabilities': {'embeddings': 'true', 'embeddingsMaxInputs': '1'}}}\n"
     ]
    }
   ],
   "source": [
    "for model in cognitive_client.deployments.list(resource_group_name = resource_group_name,\n",
    "                                                                     account_name = openai_name):\n",
    "    print(model.as_dict())"
   ]
  },
  {
   "cell_type": "code",
   "execution_count": null,
   "id": "409e2f02",
   "metadata": {},
   "outputs": [],
   "source": []
  }
 ],
 "metadata": {
  "kernelspec": {
   "display_name": "Python 3 (ipykernel)",
   "language": "python",
   "name": "python3"
  },
  "language_info": {
   "codemirror_mode": {
    "name": "ipython",
    "version": 3
   },
   "file_extension": ".py",
   "mimetype": "text/x-python",
   "name": "python",
   "nbconvert_exporter": "python",
   "pygments_lexer": "ipython3",
   "version": "3.11.1"
  }
 },
 "nbformat": 4,
 "nbformat_minor": 5
}
