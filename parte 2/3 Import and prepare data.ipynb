{
 "cells": [
  {
   "cell_type": "code",
   "execution_count": 1,
   "id": "fa9a2681",
   "metadata": {},
   "outputs": [],
   "source": [
    "import os\n",
    "\n",
    "import pandas\n",
    "import tiktoken"
   ]
  },
  {
   "cell_type": "markdown",
   "id": "d7fb7027",
   "metadata": {},
   "source": [
    "### Read files text"
   ]
  },
  {
   "cell_type": "code",
   "execution_count": 2,
   "id": "a771496f",
   "metadata": {},
   "outputs": [],
   "source": [
    "def get_full_files_list(path: str) -> list[str]:\n",
    "    files_list = os.listdir(path)\n",
    "    full_path_list = []\n",
    "    \n",
    "    for file in files_list:\n",
    "        full_path = os.path.join(path, file)\n",
    "        if os.path.isdir(full_path):\n",
    "            full_path_list = full_path_list + get_full_files_list(full_path)\n",
    "        elif os.path.isfile(full_path):\n",
    "            full_path_list.append(full_path)\n",
    "        else:\n",
    "            pass\n",
    "    \n",
    "    return full_path_list"
   ]
  },
  {
   "cell_type": "code",
   "execution_count": 3,
   "id": "919717c1",
   "metadata": {},
   "outputs": [],
   "source": [
    "def read_txt(full_file_path: str) -> str:\n",
    "    with open(full_file_path, encoding='utf-8') as file:\n",
    "        return ''.join(file.readlines())"
   ]
  },
  {
   "cell_type": "code",
   "execution_count": 4,
   "id": "628a49a3",
   "metadata": {},
   "outputs": [],
   "source": [
    "def clear_string(string: str) -> str:\n",
    "    string = string.replace('\"', '')\n",
    "    string = string.replace('\\n', ' ')\n",
    "    string = string.replace('-', '')\n",
    "    string = string.replace('.', '')\n",
    "    string = string.replace(':', '')\n",
    "    string = string.replace(',', '')\n",
    "    string = string.replace('  ', ' ')\n",
    "    return string"
   ]
  },
  {
   "cell_type": "code",
   "execution_count": 5,
   "id": "529438c6",
   "metadata": {},
   "outputs": [],
   "source": [
    "def read_and_clear(full_file_path:str) -> str:\n",
    "    return clear_string(read_txt(full_file_path))"
   ]
  },
  {
   "cell_type": "code",
   "execution_count": 6,
   "id": "44459d87",
   "metadata": {},
   "outputs": [],
   "source": [
    "references_table = pandas.DataFrame(columns=['file_name', 'full_path', 'full_text', 'token_lenght'])"
   ]
  },
  {
   "cell_type": "code",
   "execution_count": 7,
   "id": "ec915f48",
   "metadata": {},
   "outputs": [],
   "source": [
    "references_table['full_path'] = get_full_files_list('data/')\n",
    "references_table['file_name'] = [item.split('/')[1] for item in references_table['full_path'].to_list()]\n",
    "references_table['full_text'] = references_table['full_path'].apply(read_and_clear)"
   ]
  },
  {
   "cell_type": "code",
   "execution_count": 8,
   "id": "89f9e3f9",
   "metadata": {},
   "outputs": [],
   "source": [
    "def get_token_len(text: str, tokenizer) -> int:\n",
    "    return len(tokenizer.encode(text))"
   ]
  },
  {
   "cell_type": "code",
   "execution_count": 9,
   "id": "57a4f594",
   "metadata": {},
   "outputs": [],
   "source": [
    "tokenizer = tiktoken.get_encoding(\"cl100k_base\")\n",
    "\n",
    "references_table['token_lenght'] = references_table['full_text'].apply(get_token_len, tokenizer = tokenizer)"
   ]
  },
  {
   "cell_type": "code",
   "execution_count": 10,
   "id": "e2f24d47",
   "metadata": {},
   "outputs": [
    {
     "data": {
      "text/html": [
       "<div>\n",
       "<style scoped>\n",
       "    .dataframe tbody tr th:only-of-type {\n",
       "        vertical-align: middle;\n",
       "    }\n",
       "\n",
       "    .dataframe tbody tr th {\n",
       "        vertical-align: top;\n",
       "    }\n",
       "\n",
       "    .dataframe thead th {\n",
       "        text-align: right;\n",
       "    }\n",
       "</style>\n",
       "<table border=\"1\" class=\"dataframe\">\n",
       "  <thead>\n",
       "    <tr style=\"text-align: right;\">\n",
       "      <th></th>\n",
       "      <th>file_name</th>\n",
       "      <th>full_path</th>\n",
       "      <th>full_text</th>\n",
       "      <th>token_lenght</th>\n",
       "    </tr>\n",
       "  </thead>\n",
       "  <tbody>\n",
       "    <tr>\n",
       "      <th>0</th>\n",
       "      <td>2022 12 13 - Semi-final - Argentina x Croácia.txt</td>\n",
       "      <td>data/2022 12 13 - Semi-final - Argentina x Cro...</td>\n",
       "      <td>O jogo é a semifinal da Copa do Mundo de 2022 ...</td>\n",
       "      <td>880</td>\n",
       "    </tr>\n",
       "    <tr>\n",
       "      <th>1</th>\n",
       "      <td>2022 12 14 - Semi-final - França x Marrocos.txt</td>\n",
       "      <td>data/2022 12 14 - Semi-final - França x Marroc...</td>\n",
       "      <td>O jogo é a semifinal da Copa do Mundo de 2022 ...</td>\n",
       "      <td>530</td>\n",
       "    </tr>\n",
       "    <tr>\n",
       "      <th>2</th>\n",
       "      <td>2022 12 17 - Decisão 3o - Croácia x Marrocos.txt</td>\n",
       "      <td>data/2022 12 17 - Decisão 3o - Croácia x Marro...</td>\n",
       "      <td>O jogo é a disputa de terceiro lugar da Copa d...</td>\n",
       "      <td>771</td>\n",
       "    </tr>\n",
       "    <tr>\n",
       "      <th>3</th>\n",
       "      <td>2022 12 18 - Final - Argentina x França.txt</td>\n",
       "      <td>data/2022 12 18 - Final - Argentina x França.txt</td>\n",
       "      <td>O jogo é final da Copa do Mundo de 2022 aconte...</td>\n",
       "      <td>1899</td>\n",
       "    </tr>\n",
       "  </tbody>\n",
       "</table>\n",
       "</div>"
      ],
      "text/plain": [
       "                                           file_name  \\\n",
       "0  2022 12 13 - Semi-final - Argentina x Croácia.txt   \n",
       "1    2022 12 14 - Semi-final - França x Marrocos.txt   \n",
       "2   2022 12 17 - Decisão 3o - Croácia x Marrocos.txt   \n",
       "3        2022 12 18 - Final - Argentina x França.txt   \n",
       "\n",
       "                                           full_path  \\\n",
       "0  data/2022 12 13 - Semi-final - Argentina x Cro...   \n",
       "1  data/2022 12 14 - Semi-final - França x Marroc...   \n",
       "2  data/2022 12 17 - Decisão 3o - Croácia x Marro...   \n",
       "3   data/2022 12 18 - Final - Argentina x França.txt   \n",
       "\n",
       "                                           full_text  token_lenght  \n",
       "0  O jogo é a semifinal da Copa do Mundo de 2022 ...           880  \n",
       "1  O jogo é a semifinal da Copa do Mundo de 2022 ...           530  \n",
       "2  O jogo é a disputa de terceiro lugar da Copa d...           771  \n",
       "3  O jogo é final da Copa do Mundo de 2022 aconte...          1899  "
      ]
     },
     "execution_count": 10,
     "metadata": {},
     "output_type": "execute_result"
    }
   ],
   "source": [
    "references_table"
   ]
  },
  {
   "cell_type": "markdown",
   "id": "1c417e21",
   "metadata": {},
   "source": [
    "### Generate embbedings and similarity search"
   ]
  },
  {
   "cell_type": "code",
   "execution_count": 11,
   "id": "4469241b",
   "metadata": {},
   "outputs": [],
   "source": [
    "from azure.identity import AzureCliCredential\n",
    "from azure.mgmt.cognitiveservices import CognitiveServicesManagementClient\n",
    "from azure.mgmt.resource import ResourceManagementClient\n",
    "\n",
    "import openai\n",
    "from openai.embeddings_utils import get_embedding, cosine_similarity"
   ]
  },
  {
   "cell_type": "code",
   "execution_count": 12,
   "id": "1336ca5f",
   "metadata": {},
   "outputs": [],
   "source": [
    "subscription_id  = '<your subscription ID>'\n",
    "region = 'eastus'\n",
    "\n",
    "project = 'testopenai'\n",
    "region = 'eastus'\n",
    "\n",
    "environment = '-dev-'\n",
    "resource_group_name = 'rg-' + project + environment + region + '-001' # create names using convention\n",
    "openai_name = 'oai-' + project + environment + region + '-001'\n",
    "deployment_name = 'ada-testopenai-dev-eastus-001'"
   ]
  },
  {
   "cell_type": "code",
   "execution_count": 13,
   "id": "e080a196",
   "metadata": {},
   "outputs": [],
   "source": [
    "credential = AzureCliCredential()\n",
    "resource_client = ResourceManagementClient(credential, subscription_id) # instanciate client object\n",
    "cognitive_client = CognitiveServicesManagementClient(credential=AzureCliCredential(), subscription_id=subscription_id)"
   ]
  },
  {
   "cell_type": "code",
   "execution_count": 14,
   "id": "f2d766b3",
   "metadata": {},
   "outputs": [],
   "source": [
    "cognitive_account = cognitive_client.accounts.get(resource_group_name = resource_group_name,\n",
    "                                                  account_name = openai_name)"
   ]
  },
  {
   "cell_type": "code",
   "execution_count": 15,
   "id": "81016812",
   "metadata": {},
   "outputs": [],
   "source": [
    "key = cognitive_client.accounts.list_keys(resource_group_name = resource_group_name,\n",
    "                                                                 account_name = openai_name).key1\n",
    "endpoint = cognitive_account.properties.endpoint"
   ]
  },
  {
   "cell_type": "code",
   "execution_count": 16,
   "id": "dda7344c",
   "metadata": {},
   "outputs": [],
   "source": [
    "openai.api_type = \"azure\"\n",
    "openai.api_base = endpoint\n",
    "openai.api_version = \"2022-12-01\"\n",
    "openai.api_key = key"
   ]
  },
  {
   "cell_type": "code",
   "execution_count": 18,
   "id": "579fb64e",
   "metadata": {},
   "outputs": [],
   "source": [
    "def generate_embeddings(table: pandas.DataFrame, model: str) -> pandas.DataFrame:\n",
    "    table['embeddings'] = table['full_text'].apply(get_embedding, engine = model)\n",
    "    return table"
   ]
  },
  {
   "cell_type": "code",
   "execution_count": 20,
   "id": "97115bfd",
   "metadata": {},
   "outputs": [],
   "source": [
    "references_table = generate_embeddings(references_table, model = deployment_name)"
   ]
  },
  {
   "cell_type": "code",
   "execution_count": 22,
   "id": "a9bfe04a",
   "metadata": {},
   "outputs": [],
   "source": [
    "def find_documents(question: str, table: pandas.DataFrame, model: str) -> pandas.DataFrame:\n",
    "    embedding_question = get_embedding(question, engine = model)\n",
    "    table['similarity'] = table['embeddings'].apply(cosine_similarity, b=embedding_question)    \n",
    "    \n",
    "    return table.sort_values('similarity', ascending=False).head(1)"
   ]
  },
  {
   "cell_type": "markdown",
   "id": "1ef38a91",
   "metadata": {},
   "source": [
    "### ChatGPT"
   ]
  },
  {
   "cell_type": "code",
   "execution_count": 23,
   "id": "d70aa349",
   "metadata": {},
   "outputs": [],
   "source": [
    "chat_model = 'gpt-' + project + environment + region + '-001'"
   ]
  },
  {
   "cell_type": "code",
   "execution_count": 24,
   "id": "d68baf73",
   "metadata": {},
   "outputs": [],
   "source": [
    "class Prompt():\n",
    "    def __init__(self, model = 'gpt-3.5-turbo-0301', max_tokens: int = 800):\n",
    "        self.model = model\n",
    "        self.messages = ''\n",
    "        self.tokens_lenght = 0\n",
    "        self.max_tokens = max_tokens\n",
    "        self.start_token = '<|im_start|>'\n",
    "        self.end_token = '\\n<|im_end|>\\n'\n",
    "        self.pos_init()\n",
    "        \n",
    "    def pos_init(self):\n",
    "        try:\n",
    "            self.encoding = tiktoken.encoding_for_model(self.model)\n",
    "        except KeyError:\n",
    "            self.encoding = tiktoken.get_encoding('cl100k_base')\n",
    "       \n",
    "    def add_message(self, message: str, role: str):\n",
    "        new_message = self.start_token + role + '\\n' + message\n",
    "        if role == 'user':\n",
    "            new_message = new_message + self.end_token\n",
    "        else:\n",
    "            new_message = new_message + '\\n'\n",
    "        self.messages = self.messages + new_message\n",
    "        self.count_tokens_lenght()\n",
    "        \n",
    "    def count_tokens_lenght(self):\n",
    "        self.tokens_lenght = len(self.encoding.encode(self.messages))\n",
    "    \n",
    "    def get_last_response(self):\n",
    "        start_tag = self.start_token + 'assistant\\n'\n",
    "        start = self.messages.rfind(start_tag)\n",
    "        end = self.messages.find(self.end_token[1:], start)\n",
    "        return self.messages[start + len(start_tag): end]\n",
    "        \n",
    "    def print_last_message(self):\n",
    "        print(self.get_last_response())"
   ]
  },
  {
   "cell_type": "code",
   "execution_count": 25,
   "id": "47fbaacf",
   "metadata": {},
   "outputs": [],
   "source": [
    "class Chat():\n",
    "        def __init__(self, prompt: Prompt, temperature: int = 0):\n",
    "            self.model = prompt.model\n",
    "            self.prompt = prompt\n",
    "            self.temperature = temperature\n",
    "            self.max_tokens = prompt.max_tokens\n",
    "            self.last_response = None\n",
    "        \n",
    "        def send_message(self):\n",
    "            self.last_response = openai.Completion.create(\n",
    "                                                    engine=self.model,\n",
    "                                                    prompt=self.prompt.messages,\n",
    "                                                    temperature=self.temperature,\n",
    "                                                    max_tokens=self.max_tokens)\n",
    "            self.prompt.add_message(self.last_response['choices'][0]['text'], role='assistant')"
   ]
  },
  {
   "cell_type": "code",
   "execution_count": 31,
   "id": "5bbb67c6",
   "metadata": {},
   "outputs": [],
   "source": [
    "def ask_model(question: str, \n",
    "                reference_table: pandas.DataFrame, \n",
    "                find_model: str,\n",
    "                competion_model: str,\n",
    "                temperature: float = 1,\n",
    "                max_tokens: int = 2040):\n",
    "    \n",
    "    result_table = find_documents(question, references_table, find_model)\n",
    "    \n",
    "    context = result_table['full_text'].values[0]\n",
    "    \n",
    "    chat_prompt = Prompt(model = competion_model, max_tokens = max_tokens)\n",
    "    chat_prompt.add_message('O assistente responde as perguntas com as informações fornecidas.', role= 'system')\n",
    "    chat_prompt.add_message(f'O que aconteceu foi: {context}', role= 'system')\n",
    "    chat_prompt.add_message(question, role= 'user')\n",
    "\n",
    "    gptchat = Chat(prompt = chat_prompt, temperature = temperature)\n",
    "    gptchat.send_message()\n",
    "    chat_prompt.print_last_message()"
   ]
  },
  {
   "cell_type": "code",
   "execution_count": 52,
   "id": "8349faaf",
   "metadata": {},
   "outputs": [
    {
     "name": "stdout",
     "output_type": "stream",
     "text": [
      "Desculpe, mas não posso fazer um resumo de uma final da Copa do Mundo de 2022, pois essa competição ainda não ocorreu. Atualmente estamos em 2021 e a Copa do Mundo de 2022 será realizada em novembro e dezembro desse ano, no Catar.\n"
     ]
    }
   ],
   "source": [
    "chat_prompt = Prompt(model = chat_model)\n",
    "chat_prompt.add_message('O assistente responde as perguntas educadamente', role= 'system')\n",
    "chat_prompt.add_message(\"Faça um resumo da final entre Argentina e França na copa do mundo de 2022\", role= 'user')\n",
    "gptchat = Chat(prompt = chat_prompt, temperature = 1)\n",
    "gptchat.send_message()\n",
    "chat_prompt.print_last_message()"
   ]
  },
  {
   "cell_type": "code",
   "execution_count": 32,
   "id": "1b21d0b0",
   "metadata": {},
   "outputs": [
    {
     "name": "stdout",
     "output_type": "stream",
     "text": [
      "A Croácia venceu o Marrocos por 2 a 0 na disputa do terceiro lugar da Copa do Mundo de 2022, realizada em dezembro de 2022, no Catar. O primeiro tempo foi marcado por lances incisivos e gols das duas equipes, mas a Croácia levou a melhor com gols de Josko Gvardiol e Mislav Orsic. O segundo tempo teve mais chances de gol, mas a Croácia conseguiu ampliar a vantagem com gols de Livaja e Perisic. O Marrocos teve um jogador advertido com cartão amarelo após socar a bola em reclamação com a arbitragem.\n"
     ]
    }
   ],
   "source": [
    "pergunta = \"Faça um resumo do jogo Croácia x Marrocos\"\n",
    "ask_model(pergunta, references_table, find_model = deployment_name, competion_model = chat_model)"
   ]
  },
  {
   "cell_type": "code",
   "execution_count": 45,
   "id": "9ee8e042",
   "metadata": {},
   "outputs": [
    {
     "name": "stdout",
     "output_type": "stream",
     "text": [
      "A Final da Copa do Mundo de 2022 entre Argentina e França aconteceu no Estádio Nacional Lusail, em Doha, Catar, em 18 de dezembro de 2022. A Argentina iniciou melhor, com Messi convertendo um pênalti aos 20 minutos e Di María ampliando o placar aos 35 minutos. A França tentou reagir com substituições, mas não conseguiu mudar o placar do primeiro tempo. No segundo tempo, Mbappé marcou três gols, empatando o jogo. O jogo acabou empatado em 2 a 2, levando-o para a prorrogação, onde a Argentina conseguiu marcar um gol com Messi, mas a França empatou novamente com Mbappé, resultando em uma disputa de pênaltis. A Argentina venceu por 4 a 2, tornando-se campeã da Copa do Mundo de 2022.\n"
     ]
    }
   ],
   "source": [
    "pergunta = \"Faça um resumo da final entre Argentina e França\"\n",
    "ask_model(pergunta, references_table, find_model = deployment_name, competion_model = chat_model)"
   ]
  },
  {
   "cell_type": "code",
   "execution_count": 38,
   "id": "559409e3",
   "metadata": {},
   "outputs": [
    {
     "name": "stdout",
     "output_type": "stream",
     "text": [
      "Na final da Copa do Mundo de 2022 entre Argentina e França, Messi marcou um gol de pênalti e Di María marcou outro gol para a Argentina no primeiro tempo. Mbappé marcou três gols para a França - o primeiro de pênalti e os outros dois na sequência no segundo tempo. Na prorrogação, Messi marcou um gol histórico para a Argentina após um rebote de uma finalização de Lautaro Martínez e Mbappé marcou outro gol para a França de pênalti, levando o jogo para os pênaltis. Na disputa de pênaltis, Montiel, Paredes, Dybala e Messi marcaram para a Argentina, enquanto Kolo Muani converteu para a França e Tchouaméni e Coman erraram seus chutes.\n"
     ]
    }
   ],
   "source": [
    "pergunta = \"Quem marcou gols na final entre Argentina e França?\"\n",
    "ask_model(pergunta, references_table, find_model = deployment_name, competion_model = chat_model)"
   ]
  },
  {
   "cell_type": "code",
   "execution_count": 39,
   "id": "6b9f4763",
   "metadata": {},
   "outputs": [
    {
     "name": "stdout",
     "output_type": "stream",
     "text": [
      "O jogador Azzedine Ounahi do Marrocos recebeu cartão amarelo aos 25 minutos do segundo tempo após socar a bola em reclamação com a arbitragem.\n"
     ]
    }
   ],
   "source": [
    "pergunta = \"Quem tomou cartão no jogoa entre Croácia e Marrocos?\"\n",
    "ask_model(pergunta, references_table, find_model = deployment_name, competion_model = chat_model)"
   ]
  },
  {
   "cell_type": "code",
   "execution_count": 40,
   "id": "9a54a9b2",
   "metadata": {},
   "outputs": [
    {
     "name": "stdout",
     "output_type": "stream",
     "text": [
      "O jogador Sofiane Boufal do Marrocos tomou cartão amarelo aos 26 minutos do primeiro tempo após chegar atrasado em dividida com Hernández.\n"
     ]
    }
   ],
   "source": [
    "pergunta = \"Quem tomou cartão na semi-final entre França e Marrocos?\"\n",
    "ask_model(pergunta, references_table, find_model = deployment_name, competion_model = chat_model)"
   ]
  },
  {
   "cell_type": "code",
   "execution_count": 41,
   "id": "ba7b4d77",
   "metadata": {},
   "outputs": [
    {
     "name": "stdout",
     "output_type": "stream",
     "text": [
      "Enzo Fernández da Argentina recebeu cartão amarelo aos 51 minutos do primeiro tempo após derrubar Kolo Muani em progressão. Adrien Rabiot da França tomou cartão amarelo no minuto 9 do segundo tempo. Marcus Thuram também tomou cartão amarelo no minuto 41 da partida. Olivier Giroud da França também tomou cartão amarelo no minuto 50. E por fim, Marcos Acuña da Argentina tomou cartão amarelo no minuto 53 da partida. Leandro Paredes da Argentina tomou cartão amarelo aos 8 minutos do segundo tempo da prorrogação por uma entrada dura em Camavinga, e Gonzalo Montiel também da Argentina tomou cartão amarelo aos 11 minutos do segundo tempo da prorrogação pelo pênalti cometido.\n"
     ]
    }
   ],
   "source": [
    "pergunta = \"Quem tomou cartão na final entre Argentina e França?\"\n",
    "ask_model(pergunta, references_table, find_model = deployment_name, competion_model = chat_model)"
   ]
  },
  {
   "cell_type": "code",
   "execution_count": 47,
   "id": "1fed32e0",
   "metadata": {},
   "outputs": [
    {
     "name": "stdout",
     "output_type": "stream",
     "text": [
      "O placar da disputa do terceiro lugar da Copa do Mundo de 2022 foi 2 a 0 para a Croácia.\n"
     ]
    }
   ],
   "source": [
    "pergunta = \"Quanto foi a disputa do 3o lugar na copa do mundo de 2022?\"\n",
    "ask_model(pergunta, references_table, find_model = deployment_name, competion_model = chat_model)"
   ]
  },
  {
   "cell_type": "code",
   "execution_count": 48,
   "id": "3c3a8ef9",
   "metadata": {},
   "outputs": [
    {
     "name": "stdout",
     "output_type": "stream",
     "text": [
      "Na disputa de 3o lugar da Copa do Mundo de 2022, pela equipe da Croácia marcaram Josko Gvardiol e Mislav Orsic.\n"
     ]
    }
   ],
   "source": [
    "pergunta = \"Quem fez os gols da Croácia na disputa de 3o lugar?\"\n",
    "ask_model(pergunta, references_table, find_model = deployment_name, competion_model = chat_model)"
   ]
  },
  {
   "cell_type": "code",
   "execution_count": null,
   "id": "44dca9a7",
   "metadata": {},
   "outputs": [],
   "source": []
  }
 ],
 "metadata": {
  "kernelspec": {
   "display_name": "Python 3 (ipykernel)",
   "language": "python",
   "name": "python3"
  },
  "language_info": {
   "codemirror_mode": {
    "name": "ipython",
    "version": 3
   },
   "file_extension": ".py",
   "mimetype": "text/x-python",
   "name": "python",
   "nbconvert_exporter": "python",
   "pygments_lexer": "ipython3",
   "version": "3.11.1"
  }
 },
 "nbformat": 4,
 "nbformat_minor": 5
}
