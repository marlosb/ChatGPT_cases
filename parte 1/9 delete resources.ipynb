{
 "cells": [
  {
   "cell_type": "markdown",
   "id": "92baf031",
   "metadata": {},
   "source": [
    "### create resources"
   ]
  },
  {
   "cell_type": "code",
   "execution_count": 1,
   "id": "f8ecf8eb",
   "metadata": {},
   "outputs": [],
   "source": [
    "import time\n",
    "\n",
    "from azure.identity import AzureCliCredential\n",
    "from azure.mgmt.cognitiveservices import CognitiveServicesManagementClient\n",
    "from azure.mgmt.resource import ResourceManagementClient"
   ]
  },
  {
   "cell_type": "code",
   "execution_count": 2,
   "id": "76450cab",
   "metadata": {},
   "outputs": [],
   "source": [
    "subscription_id  = '<your-subscription-id>'\n",
    "region = 'eastus'\n",
    "\n",
    "project = 'testopenai'\n",
    "region = 'eastus'\n",
    "\n",
    "environment = '-dev-'\n",
    "resource_group_name = 'rg-' + project + environment + region + '-001' # create names using convention\n",
    "openai_name = 'oai-' + project + environment + region + '-001'\n",
    "deployment_name = 'gpt-' + project + environment + region + '-001'"
   ]
  },
  {
   "cell_type": "code",
   "execution_count": 3,
   "id": "66fd47cf",
   "metadata": {},
   "outputs": [],
   "source": [
    "credential = AzureCliCredential()\n",
    "resource_client = ResourceManagementClient(credential, subscription_id) # instanciate client object\n",
    "cognitive_client = CognitiveServicesManagementClient(credential=AzureCliCredential(), subscription_id=subscription_id)"
   ]
  },
  {
   "cell_type": "markdown",
   "id": "36e9089e",
   "metadata": {},
   "source": [
    "### Delete resources"
   ]
  },
  {
   "cell_type": "code",
   "execution_count": null,
   "id": "a49b9f92",
   "metadata": {},
   "outputs": [],
   "source": [
    "deployment_deletion = cognitive_client.deployments.begin_delete(resource_group_name = resource_group_name,\n",
    "                                                                 account_name = openai_name,\n",
    "                                                                 deployment_name = deployment_name)\n",
    "\n",
    "while deployment_deletion.status() == 'InProgress':\n",
    "    print(deployment_deletion.status(), 'waiting 10 seconds....')\n",
    "    time.sleep(10)\n",
    "\n",
    "print(deployment_deletion.status())"
   ]
  },
  {
   "cell_type": "code",
   "execution_count": 7,
   "id": "452956b3",
   "metadata": {},
   "outputs": [],
   "source": [
    "account_deletion = cognitive_client.accounts.begin_delete(resource_group_name = resource_group_name,\n",
    "                                                                 account_name = openai_name)"
   ]
  },
  {
   "cell_type": "code",
   "execution_count": null,
   "id": "bfa33fe0",
   "metadata": {
    "scrolled": false
   },
   "outputs": [],
   "source": [
    "resource_group_deletion = resource_client.resource_groups.begin_delete(resource_group_name)\n",
    "\n",
    "while resource_group_deletion.status() == 'InProgress':\n",
    "    print(resource_group_deletion.status(), 'waiting 10 seconds....')\n",
    "    time.sleep(10)\n",
    "\n",
    "print(resource_group_deletion.status())"
   ]
  }
 ],
 "metadata": {
  "kernelspec": {
   "display_name": "Python 3 (ipykernel)",
   "language": "python",
   "name": "python3"
  },
  "language_info": {
   "codemirror_mode": {
    "name": "ipython",
    "version": 3
   },
   "file_extension": ".py",
   "mimetype": "text/x-python",
   "name": "python",
   "nbconvert_exporter": "python",
   "pygments_lexer": "ipython3",
   "version": "3.11.1"
  }
 },
 "nbformat": 4,
 "nbformat_minor": 5
}
