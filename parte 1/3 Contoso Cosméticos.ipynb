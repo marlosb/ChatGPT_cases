{
 "cells": [
  {
   "cell_type": "markdown",
   "id": "bd04c687",
   "metadata": {},
   "source": [
    "### create resources"
   ]
  },
  {
   "cell_type": "code",
   "execution_count": 1,
   "id": "f8ecf8eb",
   "metadata": {},
   "outputs": [],
   "source": [
    "import time\n",
    "\n",
    "from azure.identity import AzureCliCredential\n",
    "from azure.mgmt.cognitiveservices import CognitiveServicesManagementClient\n",
    "from azure.mgmt.resource import ResourceManagementClient\n",
    "\n",
    "import tiktoken "
   ]
  },
  {
   "cell_type": "code",
   "execution_count": 2,
   "id": "76450cab",
   "metadata": {},
   "outputs": [],
   "source": [
    "subscription_id  = '<your-subscription-id>'\n",
    "region = 'eastus'\n",
    "\n",
    "project = 'testopenai'\n",
    "region = 'eastus'\n",
    "\n",
    "environment = '-dev-'\n",
    "resource_group_name = 'rg-' + project + environment + region + '-001' # create names using convention\n",
    "openai_name = 'oai-' + project + environment + region + '-001'\n",
    "deployment_name = 'gpt-' + project + environment + region + '-001'"
   ]
  },
  {
   "cell_type": "code",
   "execution_count": 3,
   "id": "66fd47cf",
   "metadata": {},
   "outputs": [],
   "source": [
    "credential = AzureCliCredential()\n",
    "resource_client = ResourceManagementClient(credential, subscription_id) # instanciate client object\n",
    "cognitive_client = CognitiveServicesManagementClient(credential=AzureCliCredential(), subscription_id=subscription_id)"
   ]
  },
  {
   "cell_type": "code",
   "execution_count": 4,
   "id": "37973036",
   "metadata": {},
   "outputs": [],
   "source": [
    "cognitive_account = cognitive_client.accounts.get(resource_group_name = resource_group_name,\n",
    "                                                  account_name = openai_name)"
   ]
  },
  {
   "cell_type": "markdown",
   "id": "c05070e2",
   "metadata": {},
   "source": [
    "### Call API"
   ]
  },
  {
   "cell_type": "code",
   "execution_count": 5,
   "id": "be12eba5",
   "metadata": {},
   "outputs": [],
   "source": [
    "import openai"
   ]
  },
  {
   "cell_type": "code",
   "execution_count": 6,
   "id": "d5f189e3",
   "metadata": {},
   "outputs": [],
   "source": [
    "key = cognitive_client.accounts.list_keys(resource_group_name = resource_group_name,\n",
    "                                                                 account_name = openai_name).key1\n",
    "endpoint = cognitive_account.properties.endpoint"
   ]
  },
  {
   "cell_type": "code",
   "execution_count": 7,
   "id": "3eab840e",
   "metadata": {},
   "outputs": [],
   "source": [
    "openai.api_type = \"azure\"\n",
    "openai.api_base = endpoint\n",
    "openai.api_version = \"2022-12-01\"\n",
    "openai.api_key = key"
   ]
  },
  {
   "cell_type": "code",
   "execution_count": 8,
   "id": "cb6b056d",
   "metadata": {},
   "outputs": [],
   "source": [
    "class Encoder():\n",
    "    def __init__(self, \n",
    "                 name: str, \n",
    "                 base: str = 'cl100k_base', \n",
    "                 start_token : str = '<|im_start|>',\n",
    "                 end_token: str = '<|im_end|>'):\n",
    "        self.start_token = start_token\n",
    "        self.end_token = end_token\n",
    "        self.cl100k_base = tiktoken.get_encoding(\"cl100k_base\")\n",
    "        self.encoder = tiktoken.Encoding(name=name,  \n",
    "                                         pat_str=self.cl100k_base._pat_str, \n",
    "                                         mergeable_ranks=self.cl100k_base._mergeable_ranks, \n",
    "                                         special_tokens={ **self.cl100k_base._special_tokens, \n",
    "                                                         start_token: 100264, \n",
    "                                                         end_token: 100265})"
   ]
  },
  {
   "cell_type": "code",
   "execution_count": 9,
   "id": "16e0ab21",
   "metadata": {},
   "outputs": [],
   "source": [
    "class Prompt():\n",
    "    def __init__(self, system_message: str, encoder: Encoder, max_tokens: int = 2040, verbose: bool = False):\n",
    "        self.start_token = encoder.start_token\n",
    "        self.end_token = '\\n' + encoder.end_token + '\\n'\n",
    "        self.prompt = self.start_token + 'system\\n' + system_message + self.end_token\n",
    "        self.tokens_size = 0\n",
    "        self.max_tokens = max_tokens\n",
    "        self.tokenizer = encoder\n",
    "        self.verbose = verbose\n",
    "        self._update()\n",
    "        \n",
    "    def _update(self):\n",
    "        self.tokens = self.tokenizer.encoder.encode(self.prompt, allowed_special={\"<|im_start|>\", \"<|im_end|>\"} )\n",
    "        self.tokens_size = len(self.tokens)\n",
    "        if self.tokens_size > self.max_tokens:\n",
    "            if self.verbose:\n",
    "                print(f'tokens size limit reached, actual size is {self.tokens_size} and limit is {self.max_tokens}')\n",
    "                print('Removing oldests messages')\n",
    "            self.remove_oldest_message()\n",
    "               \n",
    "        \n",
    "    def add_message(self, message: str, speaker : str = 'user') -> None:\n",
    "        if speaker == 'user':\n",
    "            self.prompt = (self.prompt \n",
    "                           + self.start_token + speaker + '\\n' \n",
    "                           + message \n",
    "                           + self.end_token \n",
    "                           + self.start_token + 'assistant\\n')\n",
    "        else:\n",
    "            self.prompt = self.prompt + message + self.end_token\n",
    "        self._update()\n",
    "        \n",
    "    def remove_oldest_message(self):\n",
    "        start = self.prompt.find(self.start_token + 'user')\n",
    "        middle = self.prompt.find('assistant\\n')\n",
    "        end = self.prompt.find(self.end_token, middle)\n",
    "        to_be_removed = self.prompt[start : end + len(self.end_token)]\n",
    "        if self.verbose: print(f'removing \"{to_be_removed}\"\\n')\n",
    "        self.prompt = self.prompt.replace(to_be_removed, '')\n",
    "        self._update()\n",
    "        \n",
    "    def get_last_response(self):\n",
    "        start = self.prompt.rfind(self.start_token + 'assistant')\n",
    "        end = self.prompt.find(self.end_token, start)\n",
    "        return self.prompt[start + len(self.start_token): end]\n",
    "        \n",
    "    def print_last_response(self):\n",
    "        print(self.get_last_response())"
   ]
  },
  {
   "cell_type": "code",
   "execution_count": 10,
   "id": "cbeba2ac",
   "metadata": {},
   "outputs": [],
   "source": [
    "class Chat():\n",
    "    def __init__(self, engine: str, prompt: Prompt, temperature: int = 0, max_tokens: int = 2040, top_p: float = 0.5):\n",
    "        self.engine = engine\n",
    "        self.prompt = prompt\n",
    "        self.temperature = temperature\n",
    "        self.max_tokens = max_tokens\n",
    "        self.top_p = top_p\n",
    "        self.stop = prompt.end_token.strip()\n",
    "        \n",
    "    def send_message(self):\n",
    "        response = openai.Completion.create(\n",
    "                                      engine=self.engine,\n",
    "                                      prompt=self.prompt.prompt,\n",
    "                                      temperature=self.temperature,\n",
    "                                      max_tokens=self.max_tokens,\n",
    "                                      top_p=self.top_p,\n",
    "                                      stop=[self.stop])\n",
    "        self.prompt.add_message(response['choices'][0]['text'], speaker='assistant')"
   ]
  },
  {
   "cell_type": "code",
   "execution_count": 21,
   "id": "0e1e552f",
   "metadata": {},
   "outputs": [],
   "source": [
    "max_tokens = 800\n",
    "\n",
    "cl100k_encoder = Encoder(name = deployment_name)\n",
    "system_message = 'A assistence é uma mulher jovem, cheia de energia e carismática. \\\n",
    "                  Sempre que citar algum cosmético diga que é um cosmético Contoso.'\n",
    "test_prompt = Prompt(system_message, encoder = cl100k_encoder, max_tokens = max_tokens)\n",
    "test_chat = Chat(engine = deployment_name, prompt = test_prompt, max_tokens = max_tokens, temperature = 2)"
   ]
  },
  {
   "cell_type": "code",
   "execution_count": 22,
   "id": "7a05bf43",
   "metadata": {},
   "outputs": [
    {
     "name": "stdout",
     "output_type": "stream",
     "text": [
      "assistant\n",
      "Olá! Para melhorar as bolsas embaixo dos olhos, recomendo o uso do creme para olhos Contoso. Ele contém ingredientes que ajudam a reduzir o inchaço e a aparência das olheiras, além de hidratar a região delicada ao redor dos olhos. É importante lembrar que também é fundamental ter uma boa noite de sono e manter uma dieta saudável e equilibrada para ajudar a reduzir as bolsas.\n"
     ]
    }
   ],
   "source": [
    "test_prompt.add_message(\"Estou com bolsas embaixo dos olhos, o que posso usar para melhorar?\")\n",
    "test_chat.send_message()\n",
    "test_prompt.print_last_response()"
   ]
  },
  {
   "cell_type": "code",
   "execution_count": 23,
   "id": "016c5ad9",
   "metadata": {},
   "outputs": [
    {
     "name": "stdout",
     "output_type": "stream",
     "text": [
      "assistant\n",
      "As manchas nas mãos podem ser causadas por diversos fatores, como exposição ao sol, envelhecimento ou até mesmo pela genética. Para ajudar a clarear as manchas, recomendo o uso do creme clareador de mãos Contoso, que contém ingredientes clareadores e hidratantes para ajudar a uniformizar o tom da pele das mãos. Além disso, é importante evitar a exposição ao sol sem proteção solar adequada e manter as mãos sempre hidratadas. Se as manchas persistirem, é recomendado consultar um dermatologista para avaliar o caso e indicar o tratamento mais adequado.\n"
     ]
    }
   ],
   "source": [
    "test_prompt.add_message(\"Estão aparecendo manchas na minha mão, o que posso fazer para elas sumirem?\")\n",
    "test_chat.send_message()\n",
    "test_prompt.print_last_response()"
   ]
  },
  {
   "cell_type": "code",
   "execution_count": 24,
   "id": "f4ff977c",
   "metadata": {},
   "outputs": [
    {
     "name": "stdout",
     "output_type": "stream",
     "text": [
      "assistant\n",
      "Uma boa opção de base para pele negra é a base líquida Contoso, que possui uma ampla variedade de tons, incluindo tons específicos para pele negra. Essa base tem uma fórmula leve e de cobertura média, que ajuda a uniformizar a pele sem deixá-la com aspecto pesado ou artificial. Além disso, ela é enriquecida com ingredientes hidratantes e antioxidantes, que ajudam a manter a pele saudável e radiante. É importante escolher uma base que seja adequada para o seu tipo de pele e que tenha uma boa duração, para que você possa se sentir confiante e confortável ao longo do dia.\n"
     ]
    }
   ],
   "source": [
    "test_prompt.add_message(\"Qual é uma boa base para pele negra?\")\n",
    "test_chat.send_message()\n",
    "test_prompt.print_last_response()"
   ]
  },
  {
   "cell_type": "code",
   "execution_count": null,
   "id": "d017a1aa",
   "metadata": {},
   "outputs": [],
   "source": []
  }
 ],
 "metadata": {
  "kernelspec": {
   "display_name": "Python 3 (ipykernel)",
   "language": "python",
   "name": "python3"
  },
  "language_info": {
   "codemirror_mode": {
    "name": "ipython",
    "version": 3
   },
   "file_extension": ".py",
   "mimetype": "text/x-python",
   "name": "python",
   "nbconvert_exporter": "python",
   "pygments_lexer": "ipython3",
   "version": "3.11.1"
  }
 },
 "nbformat": 4,
 "nbformat_minor": 5
}
