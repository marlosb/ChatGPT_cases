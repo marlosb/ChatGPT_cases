{
 "cells": [
  {
   "cell_type": "markdown",
   "id": "92baf031",
   "metadata": {},
   "source": [
    "### create resources"
   ]
  },
  {
   "cell_type": "code",
   "execution_count": 1,
   "id": "f8ecf8eb",
   "metadata": {},
   "outputs": [],
   "source": [
    "import time\n",
    "\n",
    "from azure.identity import AzureCliCredential\n",
    "from azure.mgmt.cognitiveservices import CognitiveServicesManagementClient\n",
    "from azure.mgmt.resource import ResourceManagementClient"
   ]
  },
  {
   "cell_type": "code",
   "execution_count": 2,
   "id": "76450cab",
   "metadata": {},
   "outputs": [],
   "source": [
    "subscription_id  = '<your-subscription-id>'\n",
    "region = 'eastus'\n",
    "\n",
    "project = 'testopenai'\n",
    "region = 'eastus'\n",
    "\n",
    "environment = '-dev-'\n",
    "resource_group_name = 'rg-' + project + environment + region + '-001' # create names using convention\n",
    "openai_name = 'oai-' + project + environment + region + '-001'\n",
    "deployment_name = 'gpt-' + project + environment + region + '-001'"
   ]
  },
  {
   "cell_type": "code",
   "execution_count": 3,
   "id": "66fd47cf",
   "metadata": {},
   "outputs": [],
   "source": [
    "credential = AzureCliCredential()\n",
    "resource_client = ResourceManagementClient(credential, subscription_id) # instanciate client object\n",
    "cognitive_client = CognitiveServicesManagementClient(credential=AzureCliCredential(), subscription_id=subscription_id)"
   ]
  },
  {
   "cell_type": "markdown",
   "id": "cc60946b",
   "metadata": {},
   "source": [
    "Create Resource Group"
   ]
  },
  {
   "cell_type": "code",
   "execution_count": 4,
   "id": "86540b3f",
   "metadata": {},
   "outputs": [
    {
     "name": "stdout",
     "output_type": "stream",
     "text": [
      "Provisioned Microsoft.Resources/resourceGroups named rg-testopenai-dev-eastus-001 in eastus\n"
     ]
    }
   ],
   "source": [
    "resource_group = resource_client.resource_groups.create_or_update(resource_group_name, {'location': region})\n",
    "print(f'Provisioned {resource_group.type} named {resource_group.name} in {resource_group.location}')"
   ]
  },
  {
   "cell_type": "markdown",
   "id": "72aa2887",
   "metadata": {},
   "source": [
    "try:\n",
    "    resource_group = resource_client.resource_groups.create_or_update(resource_group_name, {'location': region})\n",
    "    print(f'Provisioned {resource_group.type} named {resource_group.name} in {resource_group.location}')\n",
    "except:\n",
    "    print('Not authenticated. Please authenticate first in the Azure CLI using az login and try again')"
   ]
  },
  {
   "cell_type": "markdown",
   "id": "e3a196ca",
   "metadata": {},
   "source": [
    "Create Cognitive Serivces Account"
   ]
  },
  {
   "cell_type": "code",
   "execution_count": 5,
   "id": "1493b8dc",
   "metadata": {},
   "outputs": [],
   "source": [
    "account_params = {'type' : 'Microsoft.CognitiveServices/accounts', \n",
    "                  'location': region, \n",
    "                  'sku': {'name': 'S0'}, \n",
    "                  'kind': 'OpenAI',\n",
    "                  'tags' : {}}"
   ]
  },
  {
   "cell_type": "code",
   "execution_count": 11,
   "id": "779e720f",
   "metadata": {},
   "outputs": [],
   "source": [
    "cognitive_account = cognitive_client.accounts.begin_create(\n",
    "                                                    resource_group_name = resource_group_name,\n",
    "                                                    account_name = openai_name,\n",
    "                                                    account = account_params)"
   ]
  },
  {
   "cell_type": "code",
   "execution_count": 12,
   "id": "dcc01634",
   "metadata": {},
   "outputs": [
    {
     "name": "stdout",
     "output_type": "stream",
     "text": [
      "oai-testopenai-dev-eastus-001\n"
     ]
    }
   ],
   "source": [
    "for element in cognitive_client.accounts.list():\n",
    "    print(element.name)"
   ]
  },
  {
   "cell_type": "code",
   "execution_count": 13,
   "id": "78c55444",
   "metadata": {},
   "outputs": [],
   "source": [
    "cognitive_account = cognitive_client.accounts.get(resource_group_name = resource_group_name,\n",
    "                                                  account_name = openai_name)"
   ]
  },
  {
   "cell_type": "code",
   "execution_count": 20,
   "id": "609e2471",
   "metadata": {
    "scrolled": true
   },
   "outputs": [
    {
     "name": "stdout",
     "output_type": "stream",
     "text": [
      "Creating waiting 10 seconds....\n",
      "Succeeded\n"
     ]
    }
   ],
   "source": [
    "while cognitive_account.as_dict()['properties']['provisioning_state'] == 'Creating':\n",
    "    print(cognitive_account.as_dict()['properties']['provisioning_state'], 'waiting 30 seconds....')\n",
    "    time.sleep(30)\n",
    "    cognitive_account = cognitive_client.accounts.get(resource_group_name = resource_group_name,\n",
    "                                                  account_name = openai_name)\n",
    "\n",
    "print(cognitive_account.as_dict()['properties']['provisioning_state'])"
   ]
  },
  {
   "cell_type": "markdown",
   "id": "c6bebb57",
   "metadata": {},
   "source": [
    "Deploy a model"
   ]
  },
  {
   "cell_type": "code",
   "execution_count": 16,
   "id": "766d74bb",
   "metadata": {},
   "outputs": [],
   "source": [
    "deployment_properties = {'model': {'format': 'OpenAI', 'name': 'gpt-35-turbo', 'version': '0301'},\n",
    "                         'scale_settings': {'scale_type': 'Standard'},\n",
    "                         'capabilities': {'completion': 'true', 'chatCompletion': 'true'}}\n",
    "\n",
    "deployment_params = {'type' : 'Microsoft.CognitiveServices/accounts/deployments', \n",
    "                     'properties': deployment_properties}"
   ]
  },
  {
   "cell_type": "code",
   "execution_count": 17,
   "id": "c30281e1",
   "metadata": {
    "scrolled": true
   },
   "outputs": [],
   "source": [
    "deployment = cognitive_client.deployments.begin_create_or_update(resource_group_name = resource_group_name,\n",
    "                                                                 account_name = openai_name,\n",
    "                                                                 deployment_name = deployment_name,\n",
    "                                                                 deployment= deployment_params)"
   ]
  },
  {
   "cell_type": "code",
   "execution_count": 18,
   "id": "99b03d8d",
   "metadata": {},
   "outputs": [
    {
     "name": "stdout",
     "output_type": "stream",
     "text": [
      "{'id': '/subscriptions/b1fcc415-9d99-40b4-9dc3-dea5e9775093/resourceGroups/rg-testopenai-dev-eastus-001/providers/Microsoft.CognitiveServices/accounts/oai-testopenai-dev-eastus-001/deployments/gpt-testopenai-dev-eastus-001', 'name': 'gpt-testopenai-dev-eastus-001', 'type': 'Microsoft.CognitiveServices/accounts/deployments', 'system_data': {'created_by': 'marlosbosso@outlook.com', 'created_by_type': 'User', 'created_at': '2023-03-11T20:34:16.493868Z', 'last_modified_by': 'marlosbosso@outlook.com', 'last_modified_by_type': 'User', 'last_modified_at': '2023-03-11T20:34:16.493868Z'}, 'etag': '\"4a371f3a-a723-4a6d-9f25-473f1053f098\"', 'properties': {'provisioning_state': 'Succeeded', 'model': {'format': 'OpenAI', 'name': 'gpt-35-turbo', 'version': '0301'}, 'scale_settings': {'scale_type': 'Standard'}, 'capabilities': {'completion': 'true', 'chatCompletion': 'true'}}}\n"
     ]
    }
   ],
   "source": [
    "for model in cognitive_client.deployments.list(resource_group_name = resource_group.name,\n",
    "                                                                 account_name = openai_name):\n",
    "    print(model.as_dict())"
   ]
  },
  {
   "cell_type": "markdown",
   "id": "f51c9f97",
   "metadata": {},
   "source": [
    "### Call API"
   ]
  },
  {
   "cell_type": "code",
   "execution_count": null,
   "id": "638b8a77",
   "metadata": {},
   "outputs": [],
   "source": [
    "import openai"
   ]
  },
  {
   "cell_type": "code",
   "execution_count": null,
   "id": "66324ca3",
   "metadata": {},
   "outputs": [],
   "source": [
    "key = cognitive_client.accounts.list_keys(resource_group_name = resource_group_name,\n",
    "                                                                 account_name = openai_name).key1"
   ]
  },
  {
   "cell_type": "code",
   "execution_count": null,
   "id": "aa48b409",
   "metadata": {},
   "outputs": [],
   "source": [
    "openai.api_type = \"azure\"\n",
    "openai.api_base = cognitive_account.properties.endpoint\n",
    "openai.api_version = \"2022-12-01\"\n",
    "openai.api_key = key"
   ]
  },
  {
   "cell_type": "code",
   "execution_count": null,
   "id": "4868abf6",
   "metadata": {
    "scrolled": true
   },
   "outputs": [],
   "source": [
    "response = openai.Completion.create(\n",
    "  engine=deployment_name,\n",
    "  prompt=\"<|im_start|>system\\nAssistant is a large language model trained by OpenAI.\\n<|im_end|>\\n<|im_start|>user\\nWhat's the difference between garbanzo beans and chickpeas?\\n<|im_end|>\\n<|im_start|>assistant\\n\",\n",
    "  temperature=0,\n",
    "  max_tokens=500,\n",
    "  top_p=0.5,\n",
    "  stop=[\"<|im_end|>\"])\n",
    "\n",
    "print(response['choices'][0]['text'])"
   ]
  },
  {
   "cell_type": "code",
   "execution_count": null,
   "id": "9c853b74",
   "metadata": {},
   "outputs": [],
   "source": []
  },
  {
   "cell_type": "code",
   "execution_count": null,
   "id": "e9da72bc",
   "metadata": {},
   "outputs": [],
   "source": []
  },
  {
   "cell_type": "code",
   "execution_count": null,
   "id": "f31ef20f",
   "metadata": {},
   "outputs": [],
   "source": []
  },
  {
   "cell_type": "code",
   "execution_count": null,
   "id": "70d47cfb",
   "metadata": {},
   "outputs": [],
   "source": []
  },
  {
   "cell_type": "code",
   "execution_count": null,
   "id": "c267dd78",
   "metadata": {},
   "outputs": [],
   "source": []
  },
  {
   "cell_type": "code",
   "execution_count": null,
   "id": "be12278b",
   "metadata": {},
   "outputs": [],
   "source": []
  },
  {
   "cell_type": "markdown",
   "id": "36e9089e",
   "metadata": {},
   "source": [
    "### Delete resources"
   ]
  },
  {
   "cell_type": "code",
   "execution_count": null,
   "id": "d794e923",
   "metadata": {},
   "outputs": [],
   "source": []
  },
  {
   "cell_type": "code",
   "execution_count": null,
   "id": "a49b9f92",
   "metadata": {},
   "outputs": [],
   "source": [
    "deployment_deletion = cognitive_client.deployments.begin_delete(resource_group_name = resource_group_name,\n",
    "                                                                 account_name = openai_name,\n",
    "                                                                 deployment_name = deployment_name)\n",
    "\n",
    "while deployment_deletion.status() == 'InProgress':\n",
    "    print(deployment_deletion.status(), 'waiting 10 seconds....')\n",
    "    time.sleep(10)\n",
    "\n",
    "print(deployment_deletion.status())"
   ]
  },
  {
   "cell_type": "code",
   "execution_count": 7,
   "id": "452956b3",
   "metadata": {},
   "outputs": [],
   "source": [
    "account_deletion = cognitive_client.accounts.begin_delete(resource_group_name = resource_group_name,\n",
    "                                                                 account_name = openai_name)"
   ]
  },
  {
   "cell_type": "code",
   "execution_count": null,
   "id": "bfa33fe0",
   "metadata": {
    "scrolled": false
   },
   "outputs": [],
   "source": [
    "resource_group_deletion = resource_client.resource_groups.begin_delete(resource_group_name)\n",
    "\n",
    "while resource_group_deletion.status() == 'InProgress':\n",
    "    print(resource_group_deletion.status(), 'waiting 10 seconds....')\n",
    "    time.sleep(10)\n",
    "\n",
    "print(resource_group_deletion.status())"
   ]
  },
  {
   "cell_type": "code",
   "execution_count": null,
   "id": "45f87624",
   "metadata": {},
   "outputs": [],
   "source": [
    "cognitive_client.accounts."
   ]
  }
 ],
 "metadata": {
  "kernelspec": {
   "display_name": "Python 3 (ipykernel)",
   "language": "python",
   "name": "python3"
  },
  "language_info": {
   "codemirror_mode": {
    "name": "ipython",
    "version": 3
   },
   "file_extension": ".py",
   "mimetype": "text/x-python",
   "name": "python",
   "nbconvert_exporter": "python",
   "pygments_lexer": "ipython3",
   "version": "3.11.1"
  }
 },
 "nbformat": 4,
 "nbformat_minor": 5
}
